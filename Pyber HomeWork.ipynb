{
 "cells": [
  {
   "cell_type": "code",
   "execution_count": 9,
   "metadata": {},
   "outputs": [],
   "source": [
    "%matplotlib inline\n",
    "# Dependencies and Setup\n",
    "import matplotlib.pyplot as plt\n",
    "import pandas as pd\n",
    "import numpy as np"
   ]
  },
  {
   "cell_type": "code",
   "execution_count": 10,
   "metadata": {},
   "outputs": [],
   "source": [
    "# File to Load (Remember to change these)\n",
    "city_data_to_load = \"data/city_data.csv\"\n",
    "ride_data_to_load = \"data/ride_data.csv\""
   ]
  },
  {
   "cell_type": "code",
   "execution_count": 11,
   "metadata": {},
   "outputs": [
    {
     "data": {
      "text/html": [
       "<div>\n",
       "<style>\n",
       "    .dataframe thead tr:only-child th {\n",
       "        text-align: right;\n",
       "    }\n",
       "\n",
       "    .dataframe thead th {\n",
       "        text-align: left;\n",
       "    }\n",
       "\n",
       "    .dataframe tbody tr th {\n",
       "        vertical-align: top;\n",
       "    }\n",
       "</style>\n",
       "<table border=\"1\" class=\"dataframe\">\n",
       "  <thead>\n",
       "    <tr style=\"text-align: right;\">\n",
       "      <th></th>\n",
       "      <th>city</th>\n",
       "      <th>driver_count</th>\n",
       "      <th>type</th>\n",
       "    </tr>\n",
       "  </thead>\n",
       "  <tbody>\n",
       "    <tr>\n",
       "      <th>0</th>\n",
       "      <td>Richardfort</td>\n",
       "      <td>38</td>\n",
       "      <td>Urban</td>\n",
       "    </tr>\n",
       "    <tr>\n",
       "      <th>1</th>\n",
       "      <td>Williamsstad</td>\n",
       "      <td>59</td>\n",
       "      <td>Urban</td>\n",
       "    </tr>\n",
       "    <tr>\n",
       "      <th>2</th>\n",
       "      <td>Port Angela</td>\n",
       "      <td>67</td>\n",
       "      <td>Urban</td>\n",
       "    </tr>\n",
       "    <tr>\n",
       "      <th>3</th>\n",
       "      <td>Rodneyfort</td>\n",
       "      <td>34</td>\n",
       "      <td>Urban</td>\n",
       "    </tr>\n",
       "    <tr>\n",
       "      <th>4</th>\n",
       "      <td>West Robert</td>\n",
       "      <td>39</td>\n",
       "      <td>Urban</td>\n",
       "    </tr>\n",
       "  </tbody>\n",
       "</table>\n",
       "</div>"
      ],
      "text/plain": [
       "           city  driver_count   type\n",
       "0   Richardfort            38  Urban\n",
       "1  Williamsstad            59  Urban\n",
       "2   Port Angela            67  Urban\n",
       "3    Rodneyfort            34  Urban\n",
       "4   West Robert            39  Urban"
      ]
     },
     "execution_count": 11,
     "metadata": {},
     "output_type": "execute_result"
    }
   ],
   "source": [
    "# Read the City and Ride Data\n",
    "city_data_df = pd.read_csv(city_data_to_load)\n",
    "city_data_df.head()"
   ]
  },
  {
   "cell_type": "code",
   "execution_count": 12,
   "metadata": {},
   "outputs": [
    {
     "data": {
      "text/html": [
       "<div>\n",
       "<style>\n",
       "    .dataframe thead tr:only-child th {\n",
       "        text-align: right;\n",
       "    }\n",
       "\n",
       "    .dataframe thead th {\n",
       "        text-align: left;\n",
       "    }\n",
       "\n",
       "    .dataframe tbody tr th {\n",
       "        vertical-align: top;\n",
       "    }\n",
       "</style>\n",
       "<table border=\"1\" class=\"dataframe\">\n",
       "  <thead>\n",
       "    <tr style=\"text-align: right;\">\n",
       "      <th></th>\n",
       "      <th>city</th>\n",
       "      <th>date</th>\n",
       "      <th>fare</th>\n",
       "      <th>ride_id</th>\n",
       "    </tr>\n",
       "  </thead>\n",
       "  <tbody>\n",
       "    <tr>\n",
       "      <th>0</th>\n",
       "      <td>Lake Jonathanshire</td>\n",
       "      <td>2018-01-14 10:14:22</td>\n",
       "      <td>13.83</td>\n",
       "      <td>5739410935873</td>\n",
       "    </tr>\n",
       "    <tr>\n",
       "      <th>1</th>\n",
       "      <td>South Michelleport</td>\n",
       "      <td>2018-03-04 18:24:09</td>\n",
       "      <td>30.24</td>\n",
       "      <td>2343912425577</td>\n",
       "    </tr>\n",
       "    <tr>\n",
       "      <th>2</th>\n",
       "      <td>Port Samanthamouth</td>\n",
       "      <td>2018-02-24 04:29:00</td>\n",
       "      <td>33.44</td>\n",
       "      <td>2005065760003</td>\n",
       "    </tr>\n",
       "    <tr>\n",
       "      <th>3</th>\n",
       "      <td>Rodneyfort</td>\n",
       "      <td>2018-02-10 23:22:03</td>\n",
       "      <td>23.44</td>\n",
       "      <td>5149245426178</td>\n",
       "    </tr>\n",
       "    <tr>\n",
       "      <th>4</th>\n",
       "      <td>South Jack</td>\n",
       "      <td>2018-03-06 04:28:35</td>\n",
       "      <td>34.58</td>\n",
       "      <td>3908451377344</td>\n",
       "    </tr>\n",
       "  </tbody>\n",
       "</table>\n",
       "</div>"
      ],
      "text/plain": [
       "                 city                 date   fare        ride_id\n",
       "0  Lake Jonathanshire  2018-01-14 10:14:22  13.83  5739410935873\n",
       "1  South Michelleport  2018-03-04 18:24:09  30.24  2343912425577\n",
       "2  Port Samanthamouth  2018-02-24 04:29:00  33.44  2005065760003\n",
       "3          Rodneyfort  2018-02-10 23:22:03  23.44  5149245426178\n",
       "4          South Jack  2018-03-06 04:28:35  34.58  3908451377344"
      ]
     },
     "execution_count": 12,
     "metadata": {},
     "output_type": "execute_result"
    }
   ],
   "source": [
    "ride_data_df = pd.read_csv(ride_data_to_load)\n",
    "ride_data_df.head()"
   ]
  },
  {
   "cell_type": "code",
   "execution_count": 13,
   "metadata": {},
   "outputs": [
    {
     "data": {
      "text/html": [
       "<div>\n",
       "<style>\n",
       "    .dataframe thead tr:only-child th {\n",
       "        text-align: right;\n",
       "    }\n",
       "\n",
       "    .dataframe thead th {\n",
       "        text-align: left;\n",
       "    }\n",
       "\n",
       "    .dataframe tbody tr th {\n",
       "        vertical-align: top;\n",
       "    }\n",
       "</style>\n",
       "<table border=\"1\" class=\"dataframe\">\n",
       "  <thead>\n",
       "    <tr style=\"text-align: right;\">\n",
       "      <th></th>\n",
       "      <th>city</th>\n",
       "      <th>driver_count</th>\n",
       "      <th>type</th>\n",
       "      <th>date</th>\n",
       "      <th>fare</th>\n",
       "      <th>ride_id</th>\n",
       "    </tr>\n",
       "  </thead>\n",
       "  <tbody>\n",
       "    <tr>\n",
       "      <th>0</th>\n",
       "      <td>Richardfort</td>\n",
       "      <td>38</td>\n",
       "      <td>Urban</td>\n",
       "      <td>2018-02-24 08:40:38</td>\n",
       "      <td>13.93</td>\n",
       "      <td>5628545007794</td>\n",
       "    </tr>\n",
       "    <tr>\n",
       "      <th>1</th>\n",
       "      <td>Richardfort</td>\n",
       "      <td>38</td>\n",
       "      <td>Urban</td>\n",
       "      <td>2018-02-13 12:46:07</td>\n",
       "      <td>14.00</td>\n",
       "      <td>910050116494</td>\n",
       "    </tr>\n",
       "    <tr>\n",
       "      <th>2</th>\n",
       "      <td>Richardfort</td>\n",
       "      <td>38</td>\n",
       "      <td>Urban</td>\n",
       "      <td>2018-02-16 13:52:19</td>\n",
       "      <td>17.92</td>\n",
       "      <td>820639054416</td>\n",
       "    </tr>\n",
       "    <tr>\n",
       "      <th>3</th>\n",
       "      <td>Richardfort</td>\n",
       "      <td>38</td>\n",
       "      <td>Urban</td>\n",
       "      <td>2018-02-01 20:18:28</td>\n",
       "      <td>10.26</td>\n",
       "      <td>9554935945413</td>\n",
       "    </tr>\n",
       "    <tr>\n",
       "      <th>4</th>\n",
       "      <td>Richardfort</td>\n",
       "      <td>38</td>\n",
       "      <td>Urban</td>\n",
       "      <td>2018-04-17 02:26:37</td>\n",
       "      <td>23.00</td>\n",
       "      <td>720020655850</td>\n",
       "    </tr>\n",
       "  </tbody>\n",
       "</table>\n",
       "</div>"
      ],
      "text/plain": [
       "          city  driver_count   type                 date   fare        ride_id\n",
       "0  Richardfort            38  Urban  2018-02-24 08:40:38  13.93  5628545007794\n",
       "1  Richardfort            38  Urban  2018-02-13 12:46:07  14.00   910050116494\n",
       "2  Richardfort            38  Urban  2018-02-16 13:52:19  17.92   820639054416\n",
       "3  Richardfort            38  Urban  2018-02-01 20:18:28  10.26  9554935945413\n",
       "4  Richardfort            38  Urban  2018-04-17 02:26:37  23.00   720020655850"
      ]
     },
     "execution_count": 13,
     "metadata": {},
     "output_type": "execute_result"
    }
   ],
   "source": [
    "# Combine the data into a single dataset\n",
    "ride_city_df = pd.merge(city_data_df, ride_data_df, on=\"city\")\n",
    "# Display the data table for preview\n",
    "ride_city_df.head()\n"
   ]
  },
  {
   "cell_type": "code",
   "execution_count": 14,
   "metadata": {
    "scrolled": true
   },
   "outputs": [
    {
     "data": {
      "text/plain": [
       "city           type    \n",
       "Amandaburgh    Urban       24.641667\n",
       "Barajasview    Urban       25.332273\n",
       "Barronchester  Suburban    36.422500\n",
       "Bethanyland    Suburban    32.956111\n",
       "Bradshawfurt   Rural       40.064000\n",
       "Name: fare, dtype: float64"
      ]
     },
     "execution_count": 14,
     "metadata": {},
     "output_type": "execute_result"
    }
   ],
   "source": [
    "#data munging to create necessary city type dataframes\n",
    "avg_fare_per_city = ride_city_df.groupby([\"city\", \"type\"])[\"fare\"].mean()\n",
    "avg_fare_per_city.head()"
   ]
  },
  {
   "cell_type": "code",
   "execution_count": 17,
   "metadata": {},
   "outputs": [],
   "source": [
    "avg_fare_urban_df = ride_city_df.loc[ride_city_df.type == \"Urban\", [\"city\", \"ride_id\", \"fare\",\n",
    "                                                                           \"driver_count\"]]\n",
    "avg_fare_urban_df.head()\n",
    "avg_fare_suburban_df = ride_city_df.loc[ride_city_df.type == \"suburban\", [\"city\", \"ride_id\", \"fare\", \"driver_count\"]]\n",
    "avg_fare_rural_df = ride_city_df.loc[ride_city_df.type == \"rural\", [\"city\", \"ride_id\", \"fare\", \"driver_count\"]]"
   ]
  },
  {
   "cell_type": "code",
   "execution_count": 18,
   "metadata": {},
   "outputs": [],
   "source": [
    "#create driver count df per city type\n",
    "driver_count_urban = avg_fare_urban_df.groupby(\"city\")[\"driver_count\"]"
   ]
  },
  {
   "cell_type": "code",
   "execution_count": 19,
   "metadata": {},
   "outputs": [
    {
     "data": {
      "text/html": [
       "<div>\n",
       "<style>\n",
       "    .dataframe thead tr:only-child th {\n",
       "        text-align: right;\n",
       "    }\n",
       "\n",
       "    .dataframe thead th {\n",
       "        text-align: left;\n",
       "    }\n",
       "\n",
       "    .dataframe tbody tr th {\n",
       "        vertical-align: top;\n",
       "    }\n",
       "</style>\n",
       "<table border=\"1\" class=\"dataframe\">\n",
       "  <thead>\n",
       "    <tr style=\"text-align: right;\">\n",
       "      <th></th>\n",
       "      <th>city</th>\n",
       "      <th>ride_id</th>\n",
       "      <th>fare</th>\n",
       "      <th>driver_count</th>\n",
       "    </tr>\n",
       "  </thead>\n",
       "  <tbody>\n",
       "    <tr>\n",
       "      <th>1625</th>\n",
       "      <td>Port Shane</td>\n",
       "      <td>4022340141966</td>\n",
       "      <td>27.66</td>\n",
       "      <td>7</td>\n",
       "    </tr>\n",
       "    <tr>\n",
       "      <th>1626</th>\n",
       "      <td>Port Shane</td>\n",
       "      <td>8341982666719</td>\n",
       "      <td>42.26</td>\n",
       "      <td>7</td>\n",
       "    </tr>\n",
       "    <tr>\n",
       "      <th>1627</th>\n",
       "      <td>Port Shane</td>\n",
       "      <td>2803204948363</td>\n",
       "      <td>14.95</td>\n",
       "      <td>7</td>\n",
       "    </tr>\n",
       "    <tr>\n",
       "      <th>1628</th>\n",
       "      <td>Port Shane</td>\n",
       "      <td>6010401984537</td>\n",
       "      <td>19.03</td>\n",
       "      <td>7</td>\n",
       "    </tr>\n",
       "    <tr>\n",
       "      <th>1629</th>\n",
       "      <td>Port Shane</td>\n",
       "      <td>2552978514662</td>\n",
       "      <td>31.58</td>\n",
       "      <td>7</td>\n",
       "    </tr>\n",
       "  </tbody>\n",
       "</table>\n",
       "</div>"
      ],
      "text/plain": [
       "            city        ride_id   fare  driver_count\n",
       "1625  Port Shane  4022340141966  27.66             7\n",
       "1626  Port Shane  8341982666719  42.26             7\n",
       "1627  Port Shane  2803204948363  14.95             7\n",
       "1628  Port Shane  6010401984537  19.03             7\n",
       "1629  Port Shane  2552978514662  31.58             7"
      ]
     },
     "execution_count": 19,
     "metadata": {},
     "output_type": "execute_result"
    }
   ],
   "source": [
    "#create dataframes for fare by city type\n",
    "avg_fare_suburban_df = ride_city_df.loc[ride_city_df.type == \"Suburban\", [\"city\", \"ride_id\", \"fare\",\n",
    "                                                                         \"driver_count\"]]\n",
    "avg_fare_suburban_df.head()\n"
   ]
  },
  {
   "cell_type": "code",
   "execution_count": 20,
   "metadata": {},
   "outputs": [
    {
     "data": {
      "text/html": [
       "<div>\n",
       "<style>\n",
       "    .dataframe thead tr:only-child th {\n",
       "        text-align: right;\n",
       "    }\n",
       "\n",
       "    .dataframe thead th {\n",
       "        text-align: left;\n",
       "    }\n",
       "\n",
       "    .dataframe tbody tr th {\n",
       "        vertical-align: top;\n",
       "    }\n",
       "</style>\n",
       "<table border=\"1\" class=\"dataframe\">\n",
       "  <thead>\n",
       "    <tr style=\"text-align: right;\">\n",
       "      <th></th>\n",
       "      <th>city</th>\n",
       "      <th>ride_id</th>\n",
       "      <th>fare</th>\n",
       "      <th>driver_count</th>\n",
       "    </tr>\n",
       "  </thead>\n",
       "  <tbody>\n",
       "    <tr>\n",
       "      <th>2250</th>\n",
       "      <td>South Jennifer</td>\n",
       "      <td>9135979586871</td>\n",
       "      <td>21.63</td>\n",
       "      <td>7</td>\n",
       "    </tr>\n",
       "    <tr>\n",
       "      <th>2251</th>\n",
       "      <td>South Jennifer</td>\n",
       "      <td>9730627367446</td>\n",
       "      <td>48.79</td>\n",
       "      <td>7</td>\n",
       "    </tr>\n",
       "    <tr>\n",
       "      <th>2252</th>\n",
       "      <td>South Jennifer</td>\n",
       "      <td>683983658392</td>\n",
       "      <td>32.20</td>\n",
       "      <td>7</td>\n",
       "    </tr>\n",
       "    <tr>\n",
       "      <th>2253</th>\n",
       "      <td>South Jennifer</td>\n",
       "      <td>3828267773041</td>\n",
       "      <td>14.11</td>\n",
       "      <td>7</td>\n",
       "    </tr>\n",
       "    <tr>\n",
       "      <th>2254</th>\n",
       "      <td>South Jennifer</td>\n",
       "      <td>623928772332</td>\n",
       "      <td>43.25</td>\n",
       "      <td>7</td>\n",
       "    </tr>\n",
       "  </tbody>\n",
       "</table>\n",
       "</div>"
      ],
      "text/plain": [
       "                city        ride_id   fare  driver_count\n",
       "2250  South Jennifer  9135979586871  21.63             7\n",
       "2251  South Jennifer  9730627367446  48.79             7\n",
       "2252  South Jennifer   683983658392  32.20             7\n",
       "2253  South Jennifer  3828267773041  14.11             7\n",
       "2254  South Jennifer   623928772332  43.25             7"
      ]
     },
     "execution_count": 20,
     "metadata": {},
     "output_type": "execute_result"
    }
   ],
   "source": [
    "avg_fare_rural_df = ride_city_df.loc[ride_city_df.type == \"Rural\", [\"city\", \"ride_id\", \"fare\",\n",
    "                                                                   \"driver_count\"]]\n",
    "avg_fare_rural_df.head()"
   ]
  },
  {
   "cell_type": "code",
   "execution_count": 21,
   "metadata": {},
   "outputs": [
    {
     "data": {
      "text/plain": [
       "city\n",
       "Amandaburgh      18\n",
       "Barajasview      22\n",
       "Barronchester    16\n",
       "Bethanyland      18\n",
       "Bradshawfurt     10\n",
       "Name: driver_count, dtype: int64"
      ]
     },
     "execution_count": 21,
     "metadata": {},
     "output_type": "execute_result"
    }
   ],
   "source": [
    "total_driver_count = ride_city_df.groupby(\"city\")[\"driver_count\"]\n",
    "total_driver_count.count().head()"
   ]
  },
  {
   "cell_type": "code",
   "execution_count": 22,
   "metadata": {},
   "outputs": [
    {
     "data": {
      "text/plain": [
       "city\n",
       "Barronchester    16\n",
       "Bethanyland      18\n",
       "Brandonfort      19\n",
       "Colemanland      22\n",
       "Davidfurt        17\n",
       "Name: driver_count, dtype: int64"
      ]
     },
     "execution_count": 22,
     "metadata": {},
     "output_type": "execute_result"
    }
   ],
   "source": [
    "driver_count_rural = avg_fare_rural_df.groupby(\"city\")[\"driver_count\"]\n",
    "driver_count_rural.count()\n",
    "driver_count_suburban = avg_fare_suburban_df.groupby(\"city\")[\"driver_count\"]\n",
    "driver_count_suburban.count().head()"
   ]
  },
  {
   "cell_type": "code",
   "execution_count": 24,
   "metadata": {},
   "outputs": [],
   "source": [
    "avg_fare_rural = avg_fare_rural_df.groupby(\"city\")[\"fare\"].mean()\n",
    "avg_fare_urban = avg_fare_urban_df.groupby(\"city\")[\"fare\"].mean()\n",
    "avg_fare_suburban = avg_fare_suburban_df.groupby(\"city\")[\"fare\"].mean()"
   ]
  },
  {
   "cell_type": "code",
   "execution_count": 25,
   "metadata": {},
   "outputs": [
    {
     "data": {
      "text/plain": [
       "city\n",
       "Bradshawfurt      10\n",
       "Garzaport          3\n",
       "Harringtonfort     6\n",
       "Jessicaport        6\n",
       "Lake Jamie         6\n",
       "Name: ride_id, dtype: int64"
      ]
     },
     "execution_count": 25,
     "metadata": {},
     "output_type": "execute_result"
    }
   ],
   "source": [
    "rural_count = avg_fare_rural_df.groupby(\"city\")[\"ride_id\"].count()\n",
    "rural_count.head()"
   ]
  },
  {
   "cell_type": "code",
   "execution_count": 26,
   "metadata": {},
   "outputs": [
    {
     "data": {
      "text/plain": [
       "city\n",
       "Amandaburgh        18\n",
       "Barajasview        22\n",
       "Carriemouth        27\n",
       "Christopherfurt    27\n",
       "Deanville          19\n",
       "Name: ride_id, dtype: int64"
      ]
     },
     "execution_count": 26,
     "metadata": {},
     "output_type": "execute_result"
    }
   ],
   "source": [
    "urban_count = avg_fare_urban_df.groupby(\"city\")[\"ride_id\"].count()\n",
    "urban_count.head()"
   ]
  },
  {
   "cell_type": "code",
   "execution_count": 27,
   "metadata": {},
   "outputs": [
    {
     "data": {
      "text/plain": [
       "city\n",
       "Barronchester    16\n",
       "Bethanyland      18\n",
       "Brandonfort      19\n",
       "Colemanland      22\n",
       "Davidfurt        17\n",
       "Name: ride_id, dtype: int64"
      ]
     },
     "execution_count": 27,
     "metadata": {},
     "output_type": "execute_result"
    }
   ],
   "source": [
    "suburban_count = avg_fare_suburban_df.groupby(\"city\")[\"ride_id\"].count()\n",
    "suburban_count.head()"
   ]
  },
  {
   "cell_type": "markdown",
   "metadata": {},
   "source": [
    "## Bubble Plot of Ride Sharing Data"
   ]
  },
  {
   "cell_type": "code",
   "execution_count": 28,
   "metadata": {},
   "outputs": [
    {
     "data": {
      "text/plain": [
       "city           type    \n",
       "Amandaburgh    Urban       18\n",
       "Barajasview    Urban       22\n",
       "Barronchester  Suburban    16\n",
       "Bethanyland    Suburban    18\n",
       "Bradshawfurt   Rural       10\n",
       "Name: ride_id, dtype: int64"
      ]
     },
     "execution_count": 28,
     "metadata": {},
     "output_type": "execute_result"
    }
   ],
   "source": [
    "# Obtain the x and y coordinates for each of the three city types\n",
    "dfy = pd.DataFrame({\n",
    "    \"test\": avg_fare_per_city\n",
    "})\n",
    "dfy.head()\n",
    "dfx = ride_city_df.groupby([\"city\",\"type\"])[\"ride_id\"].count()\n",
    "dfx.head()\n"
   ]
  },
  {
   "cell_type": "code",
   "execution_count": 32,
   "metadata": {},
   "outputs": [
    {
     "data": {
      "image/png": "[encoded data removed]",
      "text/plain": [
       "<matplotlib.figure.Figure at 0x1c315815d30>"
      ]
     },
     "metadata": {},
     "output_type": "display_data"
    }
   ],
   "source": [
    "# Build the scatter plots for each city types\n",
    "plt.scatter(urban_count, avg_fare_urban, color=\"red\", edgecolors=\"black\",\n",
    "            s =driver_count_urban.sum(), alpha=0.4, linewidths=2)\n",
    "plt.scatter(suburban_count, avg_fare_suburban, color=\"blue\", edgecolors=\"black\",\n",
    "           s =driver_count_suburban.sum(), alpha=0.4, linewidths=2)\n",
    "plt.scatter(rural_count, avg_fare_rural, color=\"yellow\", edgecolors=\"black\",\n",
    "           s =driver_count_rural.sum(), alpha=0.4, linewidths=2)\n",
    "# Incorporate the other graph properties\n",
    "plt.xlabel(\"Total Number of Rides Per City\")\n",
    "plt.ylabel(\"Average Fare $\")\n",
    "plt.title(\"Pyber Ride Sharing Data 2016\")\n",
    "# Create a legend\n",
    "plt.legend([\"Urban\", \"Suburban\",\"Rural\"], markerscale=0.5, title=\"city Types\")\n",
    "\n",
    "# Incorporate a text label regarding circle size\n",
    "plt.figtext(0.92, 0.59, \"Note:\" + \"\\n\" + \"Circle size correlates with driver count per city\")\n",
    "plt.grid()\n",
    "plt.savefig(\"Pyber Ride Sharing Data 2016\", facecolor='w', edgecolor='w')\n",
    "#plt.savefig(Ride_Sharing, facecolor='w', edgecolor='w')\n",
    "# Show plot\n",
    "plt.show()"
   ]
  },
  {
   "cell_type": "markdown",
   "metadata": {},
   "source": [
    "## Total Fares by City Type"
   ]
  },
  {
   "cell_type": "code",
   "execution_count": 34,
   "metadata": {},
   "outputs": [
    {
     "data": {
      "image/png": "[encoded data removed]",
      "text/plain": [
       "<matplotlib.figure.Figure at 0x1c315f33278>"
      ]
     },
     "metadata": {},
     "output_type": "display_data"
    }
   ],
   "source": [
    "# Calculate Type Percents\n",
    "total_fare_urban = avg_fare_urban_df[\"fare\"].sum()\n",
    "#total_fare_urban\n",
    "total_fare_suburban = avg_fare_suburban_df[\"fare\"].sum()\n",
    "#total_fare_suburban\n",
    "total_fare_rural = avg_fare_rural_df[\"fare\"].sum()\n",
    "#total_fare_rural\n",
    "# Build Pie Chart\n",
    "labels = \"Urban\", \"Rural\", \"Suburban\"\n",
    "sizes = [total_fare_urban, total_fare_rural, total_fare_suburban]\n",
    "colors = [\"red\", \"yellow\", \"blue\"]\n",
    "explode = (0.1, 0, 0)\n",
    "plt.title(\"Percent of Total fare by City Type\")\n",
    "plt.pie(sizes, labels=labels, colors=colors, autopct=\"%1.1f%%\", explode=explode, startangle=290,\n",
    "       shadow=True)\n",
    "# Save Figure\n",
    "plt.savefig(\"Percent_fare_by_city.png\")"
   ]
  },
  {
   "cell_type": "code",
   "execution_count": null,
   "metadata": {},
   "outputs": [],
   "source": [
    "# Show Figure\n",
    "plt.show()"
   ]
  },
  {
   "cell_type": "markdown",
   "metadata": {},
   "source": [
    "## Total Rides by City Type"
   ]
  },
  {
   "cell_type": "code",
   "execution_count": 35,
   "metadata": {},
   "outputs": [
    {
     "data": {
      "image/png": "[encoded data removed]",
      "text/plain": [
       "<matplotlib.figure.Figure at 0x1c315f53780>"
      ]
     },
     "metadata": {},
     "output_type": "display_data"
    }
   ],
   "source": [
    "# Calculate Ride Percents\n",
    "total_ride_urban = avg_fare_urban_df[\"ride_id\"].count()\n",
    "total_ride_suburban = avg_fare_suburban_df[\"ride_id\"].count()\n",
    "total_ride_rural = avg_fare_rural_df[\"ride_id\"].count()\n",
    "\n",
    "# Build Pie Chart\n",
    "labels = \"Urban\", \"Rural\", \"Suburban\"\n",
    "Rides = [total_ride_urban, total_ride_rural, total_ride_suburban]\n",
    "colors = \"red\", \"yellow\", \"blue\"\n",
    "explode = (0.1, 0, 0)\n",
    "plt.title(\"Percent of Total Rides Per City Type\")\n",
    "plt.pie(Rides, labels=labels, colors=colors, autopct=\"%1.1f%%\", explode=explode, startangle=260, \n",
    "       shadow=True)\n",
    "# Save Figure\n",
    "plt.savefig(\"Ride_by_city_type.png\")\n",
    "#plt.savefig(Rides)"
   ]
  },
  {
   "cell_type": "code",
   "execution_count": null,
   "metadata": {},
   "outputs": [],
   "source": [
    "# Show Figure\n",
    "plt.show()"
   ]
  },
  {
   "cell_type": "markdown",
   "metadata": {},
   "source": [
    "## Total Drivers by City Type"
   ]
  },
  {
   "cell_type": "code",
   "execution_count": 36,
   "metadata": {},
   "outputs": [
    {
     "data": {
      "image/png": "[encoded data removed]",
      "text/plain": [
       "<matplotlib.figure.Figure at 0x1c316218080>"
      ]
     },
     "metadata": {},
     "output_type": "display_data"
    }
   ],
   "source": [
    "# Calculate Driver Percents\n",
    "total_driver_urban = avg_fare_urban_df[\"driver_count\"].sum()\n",
    "total_driver_suburban = avg_fare_suburban_df[\"driver_count\"].sum()\n",
    "total_driver_rural = avg_fare_rural_df[\"driver_count\"].sum()\n",
    "\n",
    "# Build Pie Charts\n",
    "labels = \"Urban\", \"Rural\", \"Suburban\"\n",
    "drivers = [total_driver_urban, total_driver_rural, total_driver_suburban]\n",
    "colors = [\"red\", \"yellow\", \"blue\"]\n",
    "explode = (0.1, 0, 0)\n",
    "plt.title(\"Percent of Drivers by City Type\")\n",
    "plt.pie(drivers, labels=labels, colors=colors, autopct=\"%1.1f%%\", explode=explode, startangle=260, shadow=True)\n",
    "\n",
    "# Save Figure\n",
    "plt.savefig(\"Driver_percent.png\")"
   ]
  },
  {
   "cell_type": "code",
   "execution_count": 37,
   "metadata": {
    "scrolled": true
   },
   "outputs": [],
   "source": [
    "# Show Figure\n"
   ]
  },
  {
   "cell_type": "markdown",
   "metadata": {},
   "source": [
    "#Observations\n",
    "1. The urban cities are the busiest, having the more number of rides and drivers. \n",
    "2. The fare rates is lowest in the rural city-type, perhaps it has something to do with \"obersavation 1\""
   ]
  }
 ],
 "metadata": {
  "anaconda-cloud": {},
  "kernelspec": {
   "display_name": "Python [conda env:Anaconda3]",
   "language": "python",
   "name": "conda-env-Anaconda3-py"
  },
  "language_info": {
   "codemirror_mode": {
    "name": "ipython",
    "version": 3
   },
   "file_extension": ".py",
   "mimetype": "text/x-python",
   "name": "python",
   "nbconvert_exporter": "python",
   "pygments_lexer": "ipython3",
   "version": "3.6.2"
  }
 },
 "nbformat": 4,
 "nbformat_minor": 2
}
